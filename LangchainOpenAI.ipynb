{
 "cells": [
  {
   "cell_type": "code",
   "execution_count": 5,
   "metadata": {},
   "outputs": [],
   "source": [
    "from dotenv import load_dotenv\n",
    "from langchain.chat_models import ChatOpenAI\n",
    "from langchain.prompts import PromptTemplate\n",
    "from langchain.chains import LLMChain\n",
    "load_dotenv()\n",
    "llm = ChatOpenAI(model_name='gpt-4-1106-preview', max_tokens=4000)"
   ]
  },
  {
   "cell_type": "code",
   "execution_count": 6,
   "metadata": {},
   "outputs": [],
   "source": [
    "SOURCE_FILE=\"\"\n",
    "PROMPT_PREFIX=\"\"\"Need help preparing for job interview at Qualcomm. please provide relevant details about the company, the specific office, the group and the job title and any general or background details that can be important. additionally, following the job description below please provide details about relevant topics to learn forward the interview, both technical and theoretical.\n",
    "Company:\n",
    "Qualcomm Israel Ltd.Job Area:\n",
    "Engineering Services Group, Engineering Services Group > Support EngineeringGeneral Summary:\n",
    "Responsible for providing low-level design and development support from initial concept through completion, manufacturing, and end-of-life phases of a project. Responsible for sustaining aspects of the product development life cycle: documentation updates, design changes based on incremental requirement changes based on product lifecycle, etc. Responsible for design tasks that are limited in scope with varying design and schedule requirements. Conducts analyses to identify, troubleshoot, diagnose, and/or debug technical issues. Applications may include analog, RF, and/or digital.\n",
    "Minimum Qualifications:\n",
    "•   High School diploma or equivalent.\n",
    "•   3+ years of experience with design, development, R&D, or similar experience in Electronics or related area.We are looking for a highly motivated candidate to join our team. As an Automation Engineer on our cutting-edge development team, you'll play a critical role in building the next generation of innovative products that optimize cellular networks around the world.\n",
    "You'll have the opportunity to work on exciting projects that push the boundaries of what's possible in the field of telecommunications.\n",
    "What you’ll be doing:\n",
    "· You will design, develop, execute and maintain automatic regression tests that will support Qualcomm R&D’s newly developed features, based on current existing (and future planned) infrastructures.\n",
    "· You will give features’ quality status, based on analyzed automation regression reports to relevant R&D teams and relevant managers.\n",
    "· You will research, design and set up new tests’ automation solutions and tools.\n",
    "· You will assist the team lead to promote the team’s assigned tasks.\n",
    "Previous background & experience:\n",
    "· B.Sc./B.A. degree in computer science, engineering or a related discipline.\n",
    "· Hands-on software automation engineer with previous experience, using Java language, ability to write stable, maintainable, and reusable code.\n",
    "· Experience with DevOps / CI tools (GIT, Jenkins, Docker, Kubernetes)\n",
    "· Experience with SQL/NoSQL databases such as MySQL and mongo DB.\n",
    "· Proficient in a Unix/Linux environment.\n",
    "· Understanding of test processes and methodologies.\n",
    "Advantages:\n",
    "· Experience in automation development of large-scale B2B systems, with strong background with Backend, API and Web systems testing.\n",
    "· Background in using different types of test automation frameworks (TestNG, Junit, selenium/ playwright etc..).\n",
    "· Experience in the cellular industry is a big advantage.\n",
    "*References to a particular number of years experience are for indicative purposes only. Applications from candidates with equivalent experience will be considered, provided that the candidate can demonstrate an ability to fulfill the principal duties of the role and possesses the required competencies.\n",
    "Although this role has some expected minor physical activity, this should not deter otherwise qualified applicants from applying. If you are an individual with a physical or mental disability and need an accommodation during the application/hiring process, please call Qualcomm’s toll-free number found here for assistance. Qualcomm will provide reasonable accommodations, upon request, to support individuals with disabilities as part of our ongoing efforts to create an accessible workplace.\n",
    "Qualcomm is an equal opportunity employer and supports workforce diversity.\n",
    "Qualcomm expects its employees to abide by all applicable policies and procedures, including but not limited to security and other requirements regarding protection of Company confidential information and other confidential and/or proprietary information, to the extent those requirements are permissible under applicable law.\n",
    "To all Staffing and Recruiting Agencies: Our Careers Site is only for individuals seeking a job at Qualcomm. Staffing and recruiting agencies and individuals being represented by an agency are not authorized to use this site or to submit profiles, applications or resumes, and any such submissions will be considered unsolicited. Qualcomm does not accept unsolicited resumes or applications from agencies. Please do not forward resumes to our jobs alias, Qualcomm employees or any other company location. Qualcomm is not responsible for any fees related to unsolicited resumes/applications.\n",
    "make the research and provide information about Qualcomm specifically in Israel, the team, and their main interest. be accurate with your answer, and provide relevant details and references.\n",
    "                {suffix}\"\"\"\n",
    "# with open(SOURCE_FILE, \"r\", encoding=\"iso-8859-1\") as f:\n",
    "#         PROMPT_PREFIX+=f.read()\n",
    "PROMPT = prompt = PromptTemplate(template=PROMPT_PREFIX, input_variables=[\"suffix\"])"
   ]
  },
  {
   "cell_type": "code",
   "execution_count": 7,
   "metadata": {},
   "outputs": [],
   "source": [
    "llm_chain = LLMChain(prompt=PROMPT, llm=llm)"
   ]
  },
  {
   "cell_type": "code",
   "execution_count": null,
   "metadata": {},
   "outputs": [],
   "source": [
    "PROMPT_SUFFIX=\"\"\"\n",
    "                \"\"\"\n",
    "try:\n",
    "    llm_response = llm_chain.run(PROMPT_SUFFIX)\n",
    "    print(llm_response)\n",
    "except Exception as err:\n",
    "    print('Exception occurred. Please try again', str(err))"
   ]
  },
  {
   "cell_type": "code",
   "execution_count": null,
   "metadata": {},
   "outputs": [],
   "source": []
  }
 ],
 "metadata": {
  "kernelspec": {
   "display_name": "Python 3",
   "language": "python",
   "name": "python3"
  },
  "language_info": {
   "codemirror_mode": {
    "name": "ipython",
    "version": 3
   },
   "file_extension": ".py",
   "mimetype": "text/x-python",
   "name": "python",
   "nbconvert_exporter": "python",
   "pygments_lexer": "ipython3",
   "version": "3.10.0"
  },
  "orig_nbformat": 4
 },
 "nbformat": 4,
 "nbformat_minor": 2
}
