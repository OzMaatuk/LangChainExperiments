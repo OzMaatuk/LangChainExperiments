{
 "cells": [
  {
   "cell_type": "code",
   "execution_count": null,
   "metadata": {
    "vscode": {
     "languageId": "pip-requirements"
    }
   },
   "outputs": [],
   "source": [
    "pip install --upgrade pip\n",
    "pip install langchain\n",
    "pip install python-dotenv\n",
    "# pip install huggingface"
   ]
  },
  {
   "cell_type": "code",
   "execution_count": null,
   "metadata": {},
   "outputs": [],
   "source": [
    "from os import environ\n",
    "from dotenv import load_dotenv\n",
    "from langchain import PromptTemplate, LLMChain\n",
    "from langchain.llms import HuggingFaceHub\n",
    "load_dotenv()"
   ]
  },
  {
   "cell_type": "code",
   "execution_count": null,
   "metadata": {},
   "outputs": [],
   "source": [
    "llm = HuggingFaceHub(repo_id=\"google/flan-t5-large\", model_kwargs={\"temperature\":1e-10})\n",
    "template = PromptTemplate(input_variables=[\"input\"], template=\"{input}\")\n",
    "chain = LLMChain(llm=llm, verbose=True, prompt=template)"
   ]
  },
  {
   "cell_type": "code",
   "execution_count": null,
   "metadata": {},
   "outputs": [],
   "source": [
    "# chain(\"What is the meaning of life?\")\n",
    "while(True):\n",
    "    print(\"Enter your prompt:\")\n",
    "    prompt = input()\n",
    "    print(chain.run(prompt))"
   ]
  }
 ],
 "metadata": {
  "language_info": {
   "name": "python"
  },
  "orig_nbformat": 4
 },
 "nbformat": 4,
 "nbformat_minor": 2
}
